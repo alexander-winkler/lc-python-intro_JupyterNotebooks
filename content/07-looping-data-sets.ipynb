{
 "cells": [
  {
   "cell_type": "markdown",
   "id": "5493e73b-0c01-475e-9941-c905af9b418b",
   "metadata": {},
   "source": [
    "# Looping Over Data Sets"
   ]
  },
  {
   "cell_type": "code",
   "execution_count": null,
   "id": "2192a2f1-0cc5-48c7-a207-d61bf3317c52",
   "metadata": {},
   "outputs": [],
   "source": [
    "import pandas as pd\n",
    "for filename in ['data/2011_circ.csv', 'data/2012_circ.csv']:\n",
    "  data = pd.read_csv(filename)\n",
    "  print(filename, data['ytd'].max())"
   ]
  },
  {
   "cell_type": "markdown",
   "id": "e263820b-02f6-4ad0-b0c1-e11f13fa89c4",
   "metadata": {},
   "source": [
    "## Use `glob` to find sets of files whose names match a pattern."
   ]
  },
  {
   "cell_type": "code",
   "execution_count": null,
   "id": "7a78f6f8-5c1e-41f9-86b8-935915260936",
   "metadata": {},
   "outputs": [],
   "source": [
    "import glob\n",
    "print(f\"all csv files in data directory: {glob.glob('data/*.csv')}\")"
   ]
  },
  {
   "cell_type": "markdown",
   "id": "94ef2545-4973-412f-8e82-650a7cab441d",
   "metadata": {},
   "source": [
    "## Use `glob` and `for` to process batches of files."
   ]
  },
  {
   "cell_type": "code",
   "execution_count": null,
   "id": "392c4852-6924-410f-8706-d1cefa3db3b4",
   "metadata": {},
   "outputs": [],
   "source": [
    "for csv in glob.glob('data/*.csv'):\n",
    "  data = pd.read_csv(csv)\n",
    "  print(csv, data['ytd'].max())"
   ]
  },
  {
   "cell_type": "code",
   "execution_count": null,
   "id": "17f33507-d2c8-40e5-8c28-f65fdf6aae30",
   "metadata": {},
   "outputs": [],
   "source": [
    "for csv in sorted(glob.glob('data/*.csv')):\n",
    "    data = pd.read_csv(csv)\n",
    "    print(csv, data['ytd'].max())"
   ]
  },
  {
   "cell_type": "markdown",
   "id": "bac925fe-0926-47cb-9915-af88476aabd9",
   "metadata": {},
   "source": [
    "## Appending DataFrames to a list\n",
    "\n",
    "### Convert Year in filenames to a column"
   ]
  },
  {
   "cell_type": "code",
   "execution_count": null,
   "id": "0093ae93-71c9-49d3-a87d-b2f2e7dc4658",
   "metadata": {},
   "outputs": [],
   "source": [
    "for csv in sorted(glob.glob('data/*.csv')):\n",
    "        year = csv[5:9] #the 5th to 9th characters in each file match the year\n",
    "        print(f'filename: {csv} year: {year}')"
   ]
  },
  {
   "cell_type": "code",
   "execution_count": null,
   "id": "2148f5b8-c1d5-4b13-b5cd-6b3e881ebdf6",
   "metadata": {},
   "outputs": [],
   "source": [
    "dfs = [] # an empty list to hold all of our DataFrames\n",
    "counter = 1\n",
    "\n",
    "for csv in sorted(glob.glob('data/*.csv')):\n",
    "  year = csv[5:9] \n",
    "  data = pd.read_csv(csv) \n",
    "  data['year'] = year \n",
    "  print(f'{counter} Saving {len(data)} rows from {csv}')\n",
    "  dfs.append(data)\n",
    "  counter += 1\n",
    "\n",
    "print(f'Number of saved DataFrames: {len(dfs)}')"
   ]
  },
  {
   "cell_type": "code",
   "execution_count": null,
   "id": "5a370738-849f-4dec-a12c-e3ba95ce94d6",
   "metadata": {},
   "outputs": [],
   "source": [
    "dfs[0].head(2) # we can add a number to head() to ask for a specific number of rows"
   ]
  },
  {
   "cell_type": "markdown",
   "id": "d1a545a9-01ff-4c14-afd3-35f0c1862e3c",
   "metadata": {},
   "source": [
    "## Concatenating DataFrames"
   ]
  },
  {
   "cell_type": "code",
   "execution_count": null,
   "id": "d6421b31-dc67-499f-b8f9-0dca023b7ee2",
   "metadata": {},
   "outputs": [],
   "source": [
    "df = pd.concat(dfs, ignore_index=True)\n",
    "f'Number of rows in df: {len(df)}'"
   ]
  },
  {
   "cell_type": "markdown",
   "id": "1abb66b7-25de-4969-9df0-ff466dd825ef",
   "metadata": {},
   "source": [
    "## Read in csv files without `pandas` using `csv`\n",
    "\n",
    "CSV files can be read using the `csv` modules. The resulting data types are simpler, either `list` (using `csv.reader()`) or `dict` (using `csv.DictReader()`)."
   ]
  },
  {
   "cell_type": "code",
   "execution_count": null,
   "id": "f3553eda-7570-4dff-8e4e-596c0c419330",
   "metadata": {},
   "outputs": [],
   "source": [
    "import csv\n",
    "\n",
    "for filename in ['data/2011_circ.csv', 'data/2012_circ.csv']:\n",
    "    with open(filename, \"r\") as f:\n",
    "        reader = csv.reader(f)\n",
    "        next(reader) # skip first line\n",
    "        for r in reader:\n",
    "            print(r)"
   ]
  },
  {
   "cell_type": "code",
   "execution_count": null,
   "id": "916022b4-0fe1-4ff4-9f82-b5c1bdfce81a",
   "metadata": {},
   "outputs": [],
   "source": [
    "import csv\n",
    "\n",
    "for filename in ['data/2011_circ.csv', 'data/2012_circ.csv']:\n",
    "    with open(filename, \"r\") as f:\n",
    "        reader = csv.DictReader(f)\n",
    "        for r in reader:\n",
    "            print(r)"
   ]
  },
  {
   "cell_type": "code",
   "execution_count": null,
   "id": "4551acaa-2cec-449c-bd0d-5c2e95e6ee47",
   "metadata": {},
   "outputs": [],
   "source": []
  }
 ],
 "metadata": {
  "language_info": {
   "name": "python"
  }
 },
 "nbformat": 4,
 "nbformat_minor": 5
}
