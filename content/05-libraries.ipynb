{
 "cells": [
  {
   "cell_type": "markdown",
   "id": "c0e7a516-bd63-47f7-8cc5-3f912bd327c2",
   "metadata": {},
   "source": [
    "# Libraries & Pandas"
   ]
  },
  {
   "cell_type": "markdown",
   "id": "90b90afb-420f-45bd-b3d7-19af3d0a2cc9",
   "metadata": {},
   "source": [
    "## You must import a library or module before using it."
   ]
  },
  {
   "cell_type": "code",
   "execution_count": null,
   "id": "e1d0172e-8de9-4daf-96ce-5a6aa8962458",
   "metadata": {},
   "outputs": [],
   "source": [
    "import string\n",
    "\n",
    "print(f'The lower ascii letters are {string.ascii_lowercase}')\n",
    "print(string.capwords('capitalise this sentence please.'))"
   ]
  },
  {
   "cell_type": "markdown",
   "id": "deee1053-9c2b-4657-9356-fdbfbae5a6c6",
   "metadata": {},
   "source": [
    "## Use `help` to learn about the contents of a library module."
   ]
  },
  {
   "cell_type": "code",
   "execution_count": null,
   "id": "5d3d3b16-b298-4db7-b3da-767f06cecff7",
   "metadata": {},
   "outputs": [],
   "source": [
    "help(string)"
   ]
  },
  {
   "cell_type": "markdown",
   "id": "c6e40399-f15a-4a92-a217-43d64fced15b",
   "metadata": {},
   "source": [
    "## Import specific items"
   ]
  },
  {
   "cell_type": "code",
   "execution_count": null,
   "id": "4abb4732-c940-42af-b68a-9eaf0e8f6191",
   "metadata": {},
   "outputs": [],
   "source": [
    "from string import ascii_letters\n",
    "\n",
    "print(f'The ASCII letters are {ascii_letters}')"
   ]
  },
  {
   "cell_type": "markdown",
   "id": "a2e9e9d0-8d83-4624-bd20-57e88db9aad2",
   "metadata": {},
   "source": [
    "## Use library aliases"
   ]
  },
  {
   "cell_type": "code",
   "execution_count": null,
   "id": "f858707f-da14-41fe-942c-8538e5685349",
   "metadata": {},
   "outputs": [],
   "source": [
    "import pandas as pd"
   ]
  },
  {
   "cell_type": "markdown",
   "id": "0ae2b377-7af1-4e12-a225-4b87f6d32063",
   "metadata": {},
   "source": [
    "## Pandas"
   ]
  },
  {
   "cell_type": "markdown",
   "id": "4d435f1c-0ae4-42e1-b22a-6aa67d959048",
   "metadata": {},
   "source": [
    "### Find your CSV files"
   ]
  },
  {
   "cell_type": "code",
   "execution_count": null,
   "id": "37a1c706-13a9-4a2a-a6c6-c485f9868e4e",
   "metadata": {},
   "outputs": [],
   "source": [
    "df = pd.read_csv('data/2011_circ.csv')\n",
    "print(df)"
   ]
  },
  {
   "cell_type": "code",
   "execution_count": null,
   "id": "a07c62cb-58ee-4f58-976d-4e2dd4e40ee9",
   "metadata": {},
   "outputs": [],
   "source": [
    "df_2011 = pd.read_csv('data/2011_circ.csv')\n",
    "df_2011.head()"
   ]
  },
  {
   "cell_type": "markdown",
   "id": "121d71e7-47af-40eb-a4fc-696d525342ee",
   "metadata": {},
   "source": [
    "## Use the `DataFrame.info()` method to find out more about a dataframe."
   ]
  },
  {
   "cell_type": "code",
   "execution_count": null,
   "id": "686ab2f5-2dff-452b-846e-8d17bdb3054f",
   "metadata": {},
   "outputs": [],
   "source": [
    "df_2011.info()"
   ]
  },
  {
   "cell_type": "markdown",
   "id": "f5764207-ce16-4ceb-bbee-be034b4e91c1",
   "metadata": {},
   "source": [
    "## The DataFrame.columns variable stores info about the dataframe’s columns."
   ]
  },
  {
   "cell_type": "code",
   "execution_count": null,
   "id": "c1076346-8e05-41e5-b688-d97a275eeb68",
   "metadata": {},
   "outputs": [],
   "source": [
    "print(df_2011.columns)"
   ]
  },
  {
   "cell_type": "markdown",
   "id": "5c49a225-0367-46b5-8c8a-99355ff03939",
   "metadata": {},
   "source": [
    "## Use `DataFrame.describe()` to get summary statistics about data."
   ]
  },
  {
   "cell_type": "code",
   "execution_count": null,
   "id": "8e484b43-54ea-4f8c-9aad-2ba77e502a07",
   "metadata": {},
   "outputs": [],
   "source": [
    "df_2011.describe()"
   ]
  },
  {
   "cell_type": "code",
   "execution_count": null,
   "id": "ba265fe6-473c-4bc2-98db-2a3d1e48f8c9",
   "metadata": {},
   "outputs": [],
   "source": []
  }
 ],
 "metadata": {
  "language_info": {
   "name": "python"
  }
 },
 "nbformat": 4,
 "nbformat_minor": 5
}
