{
 "cells": [
  {
   "cell_type": "markdown",
   "id": "0c5c8bb7-8144-49d4-ab67-c9ff920ef680",
   "metadata": {},
   "source": [
    "# Conditionals\n",
    "\n",
    "## Use `if` statements to control whether or not a block of code is executed."
   ]
  },
  {
   "cell_type": "code",
   "execution_count": null,
   "id": "5388fbf6-e7e6-47fe-b07c-7b6dcc2c1ad8",
   "metadata": {},
   "outputs": [],
   "source": [
    "checkouts = 11\n",
    "if checkouts > 10.0:\n",
    "    print(f'{checkouts} is over the limit.')\n",
    "\n",
    "checkouts = 8\n",
    "if checkouts > 10.0:\n",
    "    print(f'{checkouts} is over the limit.')"
   ]
  },
  {
   "cell_type": "markdown",
   "id": "f85125c4-5540-464c-831f-5359026a15ad",
   "metadata": {},
   "source": [
    "## Conditionals are often used inside loops."
   ]
  },
  {
   "cell_type": "code",
   "execution_count": null,
   "id": "42f03406-5f1e-4459-84ca-a5feca943dfa",
   "metadata": {},
   "outputs": [],
   "source": [
    "checkouts = [0, 3, 10, 12, 22]\n",
    "for checkout in checkouts:\n",
    "    if checkout > 10.0:\n",
    "        print(f'{checkout} is over the limit.')"
   ]
  },
  {
   "cell_type": "markdown",
   "id": "ec6f7731-1bb3-4695-b47c-a3b3f30e9138",
   "metadata": {},
   "source": [
    "## Use `else` to execute a block of code when an `if` condition is *not* true."
   ]
  },
  {
   "cell_type": "code",
   "execution_count": null,
   "id": "a4049338-b6d3-4af7-86b4-935f850097c4",
   "metadata": {},
   "outputs": [],
   "source": [
    "for checkout in checkouts:\n",
    "    if checkout > 10.0:\n",
    "        print(f'{checkout} is over the limit.')\n",
    "    else:\n",
    "        print(f'{checkout} is under the limit.')"
   ]
  },
  {
   "cell_type": "markdown",
   "id": "eaff30ec-7dee-45dd-a315-faaab6a9ddd9",
   "metadata": {},
   "source": [
    "## Use `elif` to specify additional tests."
   ]
  },
  {
   "cell_type": "code",
   "execution_count": null,
   "id": "33ce962f-127d-48ba-bb77-98904754787d",
   "metadata": {},
   "outputs": [],
   "source": [
    "for checkout in checkouts:\n",
    "    if checkout > 10.0:\n",
    "        print(f'*Warning*: {checkout} is over the limit.')\n",
    "    elif checkout == 10:\n",
    "        print(f'{checkout} is at the exact limit.')\n",
    "    else:\n",
    "        print(f'{checkout} is under the limit.')"
   ]
  },
  {
   "cell_type": "code",
   "execution_count": null,
   "id": "e6139efe-5474-4bb9-86f1-652b56735879",
   "metadata": {},
   "outputs": [],
   "source": [
    "grade = 85\n",
    "if grade >= 70:\n",
    "    print('grade is C')\n",
    "elif grade >= 80:\n",
    "    print('grade is B')\n",
    "elif grade >= 90:\n",
    "    print('grade is A')"
   ]
  },
  {
   "cell_type": "markdown",
   "id": "5f231e38-8a56-4dd3-a88f-fbecb4da7791",
   "metadata": {},
   "source": [
    "## Compound conditionals using `and` and `or`"
   ]
  },
  {
   "cell_type": "code",
   "execution_count": null,
   "id": "e892fdeb-c951-4b19-94f9-82354f6307d4",
   "metadata": {},
   "outputs": [],
   "source": [
    "checkouts = [3, 50, 120]\n",
    "users = ['fac', 'grad']\n",
    "\n",
    "for user in users:\n",
    "    for checkout in checkouts:\n",
    "        #faculty checkout limit is 100\n",
    "        if checkout >= 100 and user == 'fac':\n",
    "            print(f\"*Warning*: {checkout} is over the {user} limit.\")\n",
    "            \n",
    "        #grad limit is 50\n",
    "        elif checkout >= 50 and user == 'grad':\n",
    "            print(f\"{checkout} is over the {user} limit.\")\n",
    "        \n",
    "        else:\n",
    "            print(f\"{checkout} is under the {user} limit.\")\n",
    "    \n",
    "    # print an empty line between users\n",
    "    print()"
   ]
  },
  {
   "cell_type": "code",
   "execution_count": null,
   "id": "0a6ad39a-5590-4403-a4b9-e262d2f5ea95",
   "metadata": {},
   "outputs": [],
   "source": []
  }
 ],
 "metadata": {
  "language_info": {
   "name": "python"
  }
 },
 "nbformat": 4,
 "nbformat_minor": 5
}
