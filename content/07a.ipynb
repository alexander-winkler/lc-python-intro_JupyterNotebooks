{
 "cells": [
  {
   "cell_type": "markdown",
   "id": "b5fd6181-ee1f-411c-becc-3f7b622ff4fb",
   "metadata": {},
   "source": [
    "# Mit CSV-Dateien arbeiten"
   ]
  },
  {
   "cell_type": "markdown",
   "id": "f4605a60-8ceb-4eea-8faf-0d0d899e18f8",
   "metadata": {},
   "source": [
    "## Mit dem `csv`-Modul CSV-Dateien einlesen"
   ]
  },
  {
   "cell_type": "code",
   "execution_count": null,
   "id": "f0d141bd-789d-41d4-847d-357a8f012a3b",
   "metadata": {},
   "outputs": [],
   "source": [
    "import csv\n",
    "\n",
    "with open('data/2011_circ.csv', 'r') as f: # Datei öffnen im 'read'-Modus\n",
    "    reader = csv.reader(f) # CSV-Reader-Objekt instanziieren\n",
    "    for row in reader: # Das Reader-Objekt ist ein Iterator (iterierbar)\n",
    "        print(row)"
   ]
  },
  {
   "cell_type": "markdown",
   "id": "4537e0d3-ff1f-4a7f-96b1-2c6b5604b6a2",
   "metadata": {},
   "source": [
    "Die erste Zeile enthält die Spaltenüberschriften. Mit `next()` wird im Iterator das aktuelle Element zurückgegeben und dann ein Element weitergesprungen. Die Spaltenüberschriften lassen sich also in eine Variable einlesen."
   ]
  },
  {
   "cell_type": "code",
   "execution_count": null,
   "id": "6739f6a7-6486-40b6-ae96-89dcfa3509ee",
   "metadata": {},
   "outputs": [],
   "source": [
    "with open('data/2011_circ.csv', 'r') as f: # Datei öffnen im 'read'-Modus\n",
    "    reader = csv.reader(f) # CSV-Reader-Objekt instanziieren\n",
    "    fieldnames = next(reader)\n",
    "    print(\"Spaltenüberschriften: \", fieldnames)\n",
    "    print(\"Weitere Zeilen\")\n",
    "    for row in reader: # Das Reader-Objekt ist ein Iterator (iterierbar)\n",
    "        print(row)"
   ]
  },
  {
   "cell_type": "markdown",
   "id": "b7ab8931-947a-4358-8bc5-9edeef03aa32",
   "metadata": {},
   "source": [
    "Jetzt sollen die jährlichen Gesamtausleihzahlen (`ytd`) in eine Liste gepackt werden."
   ]
  },
  {
   "cell_type": "code",
   "execution_count": null,
   "id": "8cb73af1-7b45-4708-9be7-55d77e1bb3d2",
   "metadata": {},
   "outputs": [],
   "source": [
    "maximalwerte = []\n",
    "with open('data/2011_circ.csv', 'r') as f: # Datei öffnen im 'read'-Modus\n",
    "    reader = csv.reader(f) # CSV-Reader-Objekt instanziieren\n",
    "    fieldnames = next(reader)\n",
    "    for row in reader: # Das Reader-Objekt ist ein Iterator (iterierbar)\n",
    "        maximalwerte.append(row[-1])\n",
    "\n",
    "print(maximalwerte)"
   ]
  },
  {
   "cell_type": "markdown",
   "id": "bce840cd-5593-468c-a718-b499c42bc7fd",
   "metadata": {},
   "source": [
    "Die bessere Datenstruktur für derartige Aufgaben ist das Dictionary. Der Name der Bibliothek kann als Schlüssel verwendet werden, weitere Informationen können als Wert ergänzt werden."
   ]
  },
  {
   "cell_type": "code",
   "execution_count": null,
   "id": "9ea8b954-37a6-4a66-b1ca-9a559bda94f4",
   "metadata": {},
   "outputs": [],
   "source": [
    "maximalwerte = {}\n",
    "with open('data/2011_circ.csv', 'r') as f: # Datei öffnen im 'read'-Modus\n",
    "    reader = csv.reader(f) # CSV-Reader-Objekt instanziieren\n",
    "    fieldnames = next(reader)\n",
    "    for row in reader: # Das Reader-Objekt ist ein Iterator (iterierbar)\n",
    "        maximalwerte[row[0]] = row[-1]\n",
    "\n",
    "print(maximalwerte)"
   ]
  },
  {
   "cell_type": "markdown",
   "id": "117c1ceb-1e86-48ea-b05b-178ac2f7ba11",
   "metadata": {},
   "source": [
    "Das `csv`-Modul erlaubt auch das Einlesen der einzelnen Datenreihen als Dictionary anstelle einer Liste.\n",
    "Keys sind die Spaltentitel."
   ]
  },
  {
   "cell_type": "code",
   "execution_count": null,
   "id": "4e0ecc1e-6bc3-4742-b3bc-a8aef5884725",
   "metadata": {},
   "outputs": [],
   "source": [
    "with open('data/2011_circ.csv', 'r') as f: # Datei öffnen im 'read'-Modus\n",
    "    reader = csv.DictReader(f) # CSV-Reader-Objekt instanziieren\n",
    "    for row in reader: # Das Reader-Objekt ist ein Iterator (iterierbar)\n",
    "        print(row)"
   ]
  },
  {
   "cell_type": "markdown",
   "id": "f8837a63-5780-4871-a371-aa7211310aa2",
   "metadata": {},
   "source": [
    "Damit lassen sich Elemente gezielt adressieren. So lassen sich die Gesamtausleihzahlen der Bibliotheken ausgeben:"
   ]
  },
  {
   "cell_type": "code",
   "execution_count": null,
   "id": "9ac9ece5-e0ae-424c-a9ec-1eda6bd2bd4c",
   "metadata": {},
   "outputs": [],
   "source": [
    "with open('data/2011_circ.csv', 'r') as f: # Datei öffnen im 'read'-Modus\n",
    "    reader = csv.DictReader(f) # CSV-Reader-Objekt instanziieren\n",
    "    for row in reader:\n",
    "        print(row['branch'], row['ytd'])"
   ]
  },
  {
   "cell_type": "markdown",
   "id": "bf05763f-c606-43aa-98ea-b2e6fff9dd4f",
   "metadata": {},
   "source": [
    "## Mehrere Dateien einlesen mit `glob()`\n",
    "\n",
    "Mit dem `glob()`-Modul werden Dateinamen in einem bestimmten Verzeichnis als Liste ausgegeben."
   ]
  },
  {
   "cell_type": "code",
   "execution_count": null,
   "id": "2e6a1995-c1fd-4614-a71c-3820005d9f64",
   "metadata": {},
   "outputs": [],
   "source": [
    "from glob import glob\n",
    "files = glob('data/*.csv')\n",
    "print(files)"
   ]
  },
  {
   "cell_type": "code",
   "execution_count": null,
   "id": "05f0762f-184a-4d14-9bb2-e71668b749aa",
   "metadata": {},
   "outputs": [],
   "source": []
  }
 ],
 "metadata": {
  "language_info": {
   "name": "python"
  }
 },
 "nbformat": 4,
 "nbformat_minor": 5
}
