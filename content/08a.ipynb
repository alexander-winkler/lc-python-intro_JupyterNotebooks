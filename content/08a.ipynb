{
 "cells": [
  {
   "cell_type": "markdown",
   "id": "30431bf0-38b5-4597-a3fb-cfa1e86af120",
   "metadata": {},
   "source": [
    "# Mit Daten spielen"
   ]
  },
  {
   "cell_type": "code",
   "execution_count": null,
   "id": "c252e1cf-ad67-4ec7-9949-dbc35ce1c57c",
   "metadata": {},
   "outputs": [],
   "source": [
    "import csv\n",
    "from glob import glob\n",
    "\n",
    "\n",
    "files = glob('data/*.csv')\n",
    "\n",
    "for csvFile in files:\n",
    "    print(csvFile)\n",
    "    with open(csvFile, 'r') as f: # Datei öffnen im 'read'-Modus\n",
    "        reader = csv.DictReader(f) # CSV-Reader-Objekt instanziieren\n",
    "        for row in reader: # Das Reader-Objekt ist ein Iterator (iterierbar)\n",
    "            print(row)"
   ]
  },
  {
   "cell_type": "markdown",
   "id": "e9411a47-35b7-41aa-8d99-9d88b0c6dfa5",
   "metadata": {},
   "source": [
    "## Gesamtjahresausleihzahlen"
   ]
  },
  {
   "cell_type": "code",
   "execution_count": null,
   "id": "28c5af80-5dbb-44b0-bcde-b2292437950b",
   "metadata": {},
   "outputs": [],
   "source": [
    "gesamtYTD = dict()\n",
    "for csvFile in files:\n",
    "    # Jahr aus Dateinamen extrahieren\n",
    "    jahr = csvFile[5:9]\n",
    "    with open(csvFile, 'r') as f: # Datei öffnen im 'read'-Modus\n",
    "        reader = csv.DictReader(f) # CSV-Reader-Objekt instanziieren\n",
    "        for row in reader: # Das Reader-Objekt ist ein Iterator (iterierbar)\n",
    "            # Prüfe, ob Key schon im Dictionary existiert\n",
    "            if jahr in gesamtYTD:\n",
    "                gesamtYTD[jahr].append(row['ytd'])\n",
    "            # Sonst liste anlegen\n",
    "            else:\n",
    "                gesamtYTD[jahr] = [ row['ytd'] ]\n",
    "\n",
    "for k, v in gesamtYTD.items():\n",
    "    print(f\"{k}: {sum(v)}\")"
   ]
  },
  {
   "cell_type": "markdown",
   "id": "d3019781-93e1-4551-af3e-54b39b38984d",
   "metadata": {},
   "source": [
    "Was verursacht den `TypeError: unsupported operand type(s) for +: 'int' and 'str'`?\n",
    "Welche Lösung gibt es?\n",
    "\n",
    "(Die Lösung findet sich bei Bedarf im nächsten Schnipsel)"
   ]
  },
  {
   "cell_type": "markdown",
   "id": "78e75d75-e081-4ab9-bd9f-4375829d045d",
   "metadata": {},
   "source": [
    "Sich das Leben einfacher machen mit `defaultdict`.\n",
    "Die `defaultdict`-Methode aus dem `collections`-Modul der Standardbibliothek stellt ein modifiziertes Dictionary bereit.\n",
    "Ein `defaultdict` initialisiert automatisch einen neuen Dictionary-Eintrag, wenn der Key nocht nicht im Dictionary enthalten ist."
   ]
  },
  {
   "cell_type": "code",
   "execution_count": null,
   "id": "b3532b68-8dea-4165-a37c-ce7ede21589c",
   "metadata": {},
   "outputs": [],
   "source": [
    "from collections import defaultdict\n",
    "\n",
    "gesamtYTD = defaultdict(list) # gibt es den Key noch nicht, wird eine leere Liste angelegt\n",
    "for csvFile in files:\n",
    "    # Jahr aus Dateinamen extrahieren\n",
    "    jahr = csvFile[5:9]\n",
    "    with open(csvFile, 'r') as f: # Datei öffnen im 'read'-Modus\n",
    "        reader = csv.DictReader(f) # CSV-Reader-Objekt instanziieren\n",
    "        YTDs = list()\n",
    "        for row in reader: # Das Reader-Objekt ist ein Iterator (iterierbar)\n",
    "            gesamtYTD[jahr].append(int(row['ytd']))\n",
    "            \n",
    "\n",
    "for k, v in gesamtYTD.items():\n",
    "    print(f\"{k}: {sum(v)}\")"
   ]
  },
  {
   "cell_type": "markdown",
   "id": "e8e4da7e-97f8-4a8b-af0b-370036cf3429",
   "metadata": {},
   "source": [
    "Nun wollen wir die Jahreszahlen vor der Ausgabe sortieren. Aus der csv wurden sie als `str` ausgelesen, sie würden also alphabetisch sortiert.\n",
    "Es ließen sich schon beim Einlesen in `int` umwandeln.\n",
    "\n",
    "Alternativ kann man auch nur fürs Sortieren die Strings als Zahlen betrachten (etwas komplizierter wegen der lambda-Funktion im key-Argument)"
   ]
  },
  {
   "cell_type": "code",
   "execution_count": null,
   "id": "2b2c8b78-c00f-4b8e-bf44-08632f96ef76",
   "metadata": {},
   "outputs": [],
   "source": [
    "for k, v in sorted(gesamtYTD.items(), key = lambda x:int(x[0])):\n",
    "    print(f\"{k}: {sum(v)}\")"
   ]
  },
  {
   "cell_type": "code",
   "execution_count": null,
   "id": "e3e13094-6d08-49fc-a323-37661ad01a42",
   "metadata": {},
   "outputs": [],
   "source": []
  }
 ],
 "metadata": {
  "language_info": {
   "name": "python"
  }
 },
 "nbformat": 4,
 "nbformat_minor": 5
}
