{
 "cells": [
  {
   "cell_type": "markdown",
   "id": "ddfa3f4a-9fc8-46a4-9fd3-5b1a32053af5",
   "metadata": {},
   "source": [
    "# Tidy Data with Pandas"
   ]
  },
  {
   "cell_type": "code",
   "execution_count": null,
   "id": "f82aee47-8727-445c-9f36-436d67d8bdc8",
   "metadata": {},
   "outputs": [],
   "source": [
    "import pandas as pddf.tail()\n",
    "\n",
    "df = pd.read_pickle('data/all_years.pkl')\n",
    "df.head()"
   ]
  },
  {
   "cell_type": "code",
   "execution_count": null,
   "id": "d8f527c6-6834-4f97-a589-6bf612ff8925",
   "metadata": {},
   "outputs": [],
   "source": [
    "df.tail()"
   ]
  },
  {
   "cell_type": "markdown",
   "id": "daf212d3-75eb-4c74-a55b-d47503774722",
   "metadata": {},
   "source": [
    "## Making Our Data Tidy"
   ]
  },
  {
   "cell_type": "code",
   "execution_count": null,
   "id": "9569b238-ae38-43fb-a501-26d32a3b7b1d",
   "metadata": {},
   "outputs": [],
   "source": [
    "help(pd.melt)"
   ]
  },
  {
   "cell_type": "code",
   "execution_count": null,
   "id": "bf69ddf6-3cd3-4971-b3aa-3536e1f3aa40",
   "metadata": {},
   "outputs": [],
   "source": [
    "df_long = df.melt(id_vars=['branch', 'address', 'city', 'zip code', 'ytd', 'year'],\n",
    "                    value_vars=['january', 'february', 'march', 'april', 'may', 'june', \n",
    "                                'july', 'august', 'september', 'october', 'november', 'december'],\n",
    "                    var_name='month', value_name='circulation')"
   ]
  },
  {
   "cell_type": "code",
   "execution_count": null,
   "id": "8a2530ec-ccc0-4972-99de-3b7083a9acfc",
   "metadata": {},
   "outputs": [],
   "source": [
    "df_long['branch'].unique()"
   ]
  },
  {
   "cell_type": "code",
   "execution_count": null,
   "id": "97736dd4-fb48-4449-84aa-95423877c5fa",
   "metadata": {},
   "outputs": [],
   "source": [
    "df_long[df_long['circulation'] > 10000]"
   ]
  },
  {
   "cell_type": "code",
   "execution_count": null,
   "id": "ce59eee4-406d-480f-91fb-101452279eaa",
   "metadata": {},
   "outputs": [],
   "source": [
    "df_long[['branch', 'circulation']]"
   ]
  },
  {
   "cell_type": "code",
   "execution_count": null,
   "id": "761471e9-27dd-4f33-8b63-bf18cf3f0295",
   "metadata": {},
   "outputs": [],
   "source": [
    "df_long.sort_values('circulation', ascending=False)"
   ]
  },
  {
   "cell_type": "code",
   "execution_count": null,
   "id": "fcaa7ce1-a57f-4268-afab-21908a40695f",
   "metadata": {},
   "outputs": [],
   "source": [
    "df_long.groupby('branch')['circulation'].agg(total_circulation='sum', mean_circulation='mean')"
   ]
  },
  {
   "cell_type": "code",
   "execution_count": null,
   "id": "26bd9c93-98b7-46b1-b845-ca371eadf46b",
   "metadata": {},
   "outputs": [],
   "source": [
    "df_long.groupby(['branch', 'month'])['circulation'].agg(['sum', 'mean'])"
   ]
  },
  {
   "cell_type": "markdown",
   "id": "e5ea69dd-7f00-4070-9739-d35d9611c7e2",
   "metadata": {},
   "source": [
    "## Adding a Date Column"
   ]
  },
  {
   "cell_type": "code",
   "execution_count": null,
   "id": "5cfa1fc3-6c18-453a-90cd-f5353f6291ef",
   "metadata": {},
   "outputs": [],
   "source": [
    "df_long['date'] = df_long['year'] + '-' + df_long['month']"
   ]
  },
  {
   "cell_type": "code",
   "execution_count": null,
   "id": "f96e5a0c-9280-459e-b862-689da22ae038",
   "metadata": {},
   "outputs": [],
   "source": [
    "df_long['date'] = pd.to_datetime(df_long['date'], format='%Y-%B')"
   ]
  },
  {
   "cell_type": "code",
   "execution_count": null,
   "id": "ccb308f7-d637-4563-980d-1215c066d274",
   "metadata": {},
   "outputs": [],
   "source": [
    "df_long['date']"
   ]
  },
  {
   "cell_type": "code",
   "execution_count": null,
   "id": "3a8f2528-2420-4947-ad60-c82135ef73d9",
   "metadata": {},
   "outputs": [],
   "source": [
    "df_long.info()"
   ]
  },
  {
   "cell_type": "code",
   "execution_count": null,
   "id": "ef1b8d22-1688-4769-b909-c38eef16e3c1",
   "metadata": {},
   "outputs": [],
   "source": [
    "df_long.set_index('date', inplace=True)"
   ]
  },
  {
   "cell_type": "code",
   "execution_count": null,
   "id": "0edbddf8-3005-446f-83b3-586cbe11ea35",
   "metadata": {},
   "outputs": [],
   "source": [
    "df_long.to_pickle('data/df_long.pkl')"
   ]
  },
  {
   "cell_type": "code",
   "execution_count": null,
   "id": "e99477ee-35de-4076-a5a5-1a595787932f",
   "metadata": {},
   "outputs": [],
   "source": []
  }
 ],
 "metadata": {
  "language_info": {
   "name": "python"
  }
 },
 "nbformat": 4,
 "nbformat_minor": 5
}
