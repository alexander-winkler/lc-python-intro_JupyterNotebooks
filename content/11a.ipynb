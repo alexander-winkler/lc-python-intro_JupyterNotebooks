{
 "cells": [
  {
   "cell_type": "code",
   "execution_count": null,
   "id": "3849fe2c-de9a-4dc6-b252-9a4393c081dc",
   "metadata": {},
   "outputs": [],
   "source": [
    "from glob import glob\n",
    "import csv\n",
    "from collections import defaultdict"
   ]
  },
  {
   "cell_type": "code",
   "execution_count": null,
   "id": "565df59b-b167-419f-bac5-c1afe6c36fb9",
   "metadata": {},
   "outputs": [],
   "source": [
    "files = sorted(glob('data/*.csv'))"
   ]
  },
  {
   "cell_type": "code",
   "execution_count": null,
   "id": "fbda747a-83f7-40e1-87ac-245594f64d06",
   "metadata": {},
   "outputs": [],
   "source": [
    "allYears = list()\n",
    "for f in files:\n",
    "    year = int(f[5:9])\n",
    "    with open(f, \"r\") as IN:\n",
    "        reader = csv.reader(IN)\n",
    "        next(reader)\n",
    "        for r in reader:\n",
    "            r.append(year)\n",
    "            allYears.append(r)"
   ]
  },
  {
   "cell_type": "markdown",
   "id": "c6aa760a-ae3e-4075-8cd0-516a97cb4d61",
   "metadata": {},
   "source": [
    "## Mehr als 10.000 Entleihungen im Monat"
   ]
  },
  {
   "cell_type": "code",
   "execution_count": null,
   "id": "0a662344-beee-4cea-b0b3-7dc7b884df84",
   "metadata": {},
   "outputs": [],
   "source": [
    "for y in allYears:\n",
    "    if any([ int(_) > 10_000 for _ in y[4:-2]]):\n",
    "        print(y)"
   ]
  },
  {
   "cell_type": "markdown",
   "id": "9987770e-f94c-44ab-a467-792a24bf3bfa",
   "metadata": {},
   "source": [
    "## Verteilung der Bibliotheken auf Städte"
   ]
  },
  {
   "cell_type": "code",
   "execution_count": null,
   "id": "8f438990-68bc-44e7-80de-e11a77595df2",
   "metadata": {},
   "outputs": [],
   "source": [
    "from collections import Counter\n",
    "cities = list()\n",
    "for f in files:\n",
    "    with open(f, \"r\") as IN:\n",
    "        reader = csv.reader(IN)\n",
    "        next(reader)\n",
    "        for r in reader:\n",
    "            cities.append(r[1])"
   ]
  },
  {
   "cell_type": "code",
   "execution_count": null,
   "id": "3d3a0cb2-3720-42aa-9ef1-88c41890cbc1",
   "metadata": {},
   "outputs": [],
   "source": [
    "Counter(cities)"
   ]
  },
  {
   "cell_type": "markdown",
   "id": "93a1868f-f9b4-4282-81af-818a25a73ca4",
   "metadata": {},
   "source": [
    "## Gesamtentleihungen pro Monat"
   ]
  },
  {
   "cell_type": "code",
   "execution_count": null,
   "id": "2c1b0376-4f8a-4335-b20d-1afeea42a114",
   "metadata": {},
   "outputs": [],
   "source": [
    "for f in files:\n",
    "    year = int(f[5:9])\n",
    "    with open(f, \"r\") as IN:\n",
    "        reader = csv.reader(IN)\n",
    "        next(reader)\n",
    "        for n, monat in enumerate(r[4:-1]):\n",
    "            print(r)\n",
    "            print(n,monat)\n",
    "            input()"
   ]
  },
  {
   "cell_type": "code",
   "execution_count": null,
   "id": "7e3a28ee-acac-4813-b140-6d5c9b6f558c",
   "metadata": {},
   "outputs": [],
   "source": []
  }
 ],
 "metadata": {
  "language_info": {
   "name": "python"
  }
 },
 "nbformat": 4,
 "nbformat_minor": 5
}
