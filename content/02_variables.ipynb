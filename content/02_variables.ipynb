{
 "cells": [
  {
   "cell_type": "markdown",
   "id": "32e9f9a6-b8f1-4a93-81a0-caa57ea7cff3",
   "metadata": {},
   "source": [
    "# Variables and Types"
   ]
  },
  {
   "cell_type": "code",
   "execution_count": null,
   "id": "57ad00d4-3276-4d6f-be8b-dcb4c05af350",
   "metadata": {},
   "outputs": [],
   "source": [
    "age = 42\n",
    "name = 'Ahmed'"
   ]
  },
  {
   "cell_type": "markdown",
   "id": "40c5d6e7-fdd7-4618-973c-488a6e8f6ae8",
   "metadata": {},
   "source": [
    "Use `print()` to display values."
   ]
  },
  {
   "cell_type": "code",
   "execution_count": null,
   "id": "65dfb9c5-676e-44e0-90ac-b48442e6f945",
   "metadata": {},
   "outputs": [],
   "source": [
    "print(name, age)"
   ]
  },
  {
   "cell_type": "code",
   "execution_count": null,
   "id": "5c51bdf3-2e47-40e6-86c5-372028063808",
   "metadata": {},
   "outputs": [],
   "source": [
    "name"
   ]
  },
  {
   "cell_type": "code",
   "execution_count": null,
   "id": "7afe3e5f-030f-4809-9493-83b534a081a2",
   "metadata": {},
   "outputs": [],
   "source": [
    "age"
   ]
  },
  {
   "cell_type": "markdown",
   "id": "9dcfaf48-eb18-41ee-b94b-0a657bd91fdd",
   "metadata": {},
   "source": [
    "Format output with f-strings"
   ]
  },
  {
   "cell_type": "code",
   "execution_count": null,
   "id": "9ff50b26-0571-4bd7-9906-cf4dd09d1943",
   "metadata": {},
   "outputs": [],
   "source": [
    "f'{name} is {age} years old'"
   ]
  },
  {
   "cell_type": "markdown",
   "id": "a85259e9-33fd-4fb0-a200-4e37eaa6cd91",
   "metadata": {},
   "source": [
    "Variables must be created before they are used."
   ]
  },
  {
   "cell_type": "code",
   "execution_count": null,
   "id": "cd8f2983-ee46-486e-be2d-9da353341324",
   "metadata": {},
   "outputs": [],
   "source": [
    "print(eye_color)"
   ]
  },
  {
   "cell_type": "markdown",
   "id": "be25c617-b23c-4540-9369-e93222228163",
   "metadata": {},
   "source": [
    "Every Python object has a type."
   ]
  },
  {
   "cell_type": "code",
   "execution_count": null,
   "id": "8a0d7404-928d-4ff9-973b-b7631d0ba646",
   "metadata": {},
   "outputs": [],
   "source": [
    "print(type(140.2), \n",
    "      type(age), \n",
    "      type(name), \n",
    "      type(print))"
   ]
  },
  {
   "cell_type": "markdown",
   "id": "b426276f-2a11-4d90-8eb6-a732e98995c7",
   "metadata": {},
   "source": [
    "Types control what operations (or methods) can be performed on objects."
   ]
  },
  {
   "cell_type": "code",
   "execution_count": null,
   "id": "a03ebc80-84b0-445a-b140-2a59a298c1df",
   "metadata": {},
   "outputs": [],
   "source": [
    "5 - 3"
   ]
  },
  {
   "cell_type": "code",
   "execution_count": null,
   "id": "f94504d2-23a0-4f19-a33c-65a5ecf375df",
   "metadata": {},
   "outputs": [],
   "source": [
    "'hello' - 'h'"
   ]
  },
  {
   "cell_type": "markdown",
   "id": "90d11ec2-fe41-48f3-bce7-3d7a5057df95",
   "metadata": {},
   "source": [
    "Use an index to get a single character from a string."
   ]
  },
  {
   "cell_type": "code",
   "execution_count": null,
   "id": "ee8e5445-b2f8-4257-9932-d8ba63040761",
   "metadata": {},
   "outputs": [],
   "source": [
    "library = 'Alexandria'\n",
    "library[0]"
   ]
  },
  {
   "cell_type": "markdown",
   "id": "2e603e76-7b1d-4a89-a385-9bca306bd84b",
   "metadata": {},
   "source": [
    "Use a slice to get multiple characters from a string."
   ]
  },
  {
   "cell_type": "code",
   "execution_count": null,
   "id": "dbf276a4-45fa-4be5-b246-c88724289307",
   "metadata": {},
   "outputs": [],
   "source": [
    "library[0:3]"
   ]
  },
  {
   "cell_type": "markdown",
   "id": "6d2a9d56-b1a8-484e-b12e-81fd7f7081d9",
   "metadata": {},
   "source": [
    "Use the built-in function len to find the length of a string."
   ]
  },
  {
   "cell_type": "code",
   "execution_count": null,
   "id": "9c6f8277-9fb7-4b57-926a-b4e76d775d6d",
   "metadata": {},
   "outputs": [],
   "source": [
    "len('Babel')"
   ]
  },
  {
   "cell_type": "markdown",
   "id": "32537981-6085-4053-9fdc-0796e31d8f81",
   "metadata": {},
   "source": [
    "Variables only change value when something is assigned to them."
   ]
  },
  {
   "cell_type": "code",
   "execution_count": null,
   "id": "8b6547e0-e0b2-4d7b-a3e1-a4e759f84d4e",
   "metadata": {},
   "outputs": [],
   "source": [
    "age = 42\n",
    "older_age = age + 3\n",
    "age = 50\n",
    "f'Older age is {older_age} and age is {age}'"
   ]
  }
 ],
 "metadata": {
  "language_info": {
   "name": "python"
  }
 },
 "nbformat": 4,
 "nbformat_minor": 5
}
