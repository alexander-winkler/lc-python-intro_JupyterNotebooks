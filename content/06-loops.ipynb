{
 "cells": [
  {
   "cell_type": "markdown",
   "id": "fdcc04a6-aeaf-46b0-a490-6febb3829705",
   "metadata": {},
   "source": [
    "# For Loops"
   ]
  },
  {
   "cell_type": "markdown",
   "id": "302d17c1-a9a8-46a8-87a0-392c61f970ce",
   "metadata": {},
   "source": [
    "Let’s create a short list of numbers in Python, and then attempt to print out each value in the list."
   ]
  },
  {
   "cell_type": "code",
   "execution_count": null,
   "id": "d9850374-e884-46d6-975d-ee96cbd76d34",
   "metadata": {},
   "outputs": [],
   "source": [
    "odds = [1, 3, 5, 7]"
   ]
  },
  {
   "cell_type": "markdown",
   "id": "b20b4c4a-f4b8-4a62-b1f0-079cb8451001",
   "metadata": {},
   "source": [
    "One way to print each number is to use a print statement with the index value for each item in the list:"
   ]
  },
  {
   "cell_type": "code",
   "execution_count": null,
   "id": "15a79f76-708b-4c95-a16c-a3349268be4c",
   "metadata": {},
   "outputs": [],
   "source": [
    "print(odds[0], odds[1], odds[2], odds[3])"
   ]
  },
  {
   "cell_type": "code",
   "execution_count": null,
   "id": "6276ea49-5c26-408b-8861-0607c8abcc46",
   "metadata": {},
   "outputs": [],
   "source": [
    "odds = [1, 3, 5]\n",
    "print(odds[0], odds[1], odds[2], odds[3])"
   ]
  },
  {
   "cell_type": "markdown",
   "id": "f5dff9eb-95a9-4358-8a56-6c926c2d980c",
   "metadata": {},
   "source": [
    "A `for` loop is a better solution:"
   ]
  },
  {
   "cell_type": "code",
   "execution_count": null,
   "id": "7a070bd7-55ea-425b-810c-4809d587f8f7",
   "metadata": {},
   "outputs": [],
   "source": [
    "odds = [1, 3, 5, 7]\n",
    "for num in odds:\n",
    "    print(num)"
   ]
  },
  {
   "cell_type": "code",
   "execution_count": null,
   "id": "3b4b7a52-0ba8-48c2-bb66-bfeb1f11351b",
   "metadata": {},
   "outputs": [],
   "source": [
    "odds.append(9)\n",
    "odds.append(11)\n",
    "print(odds)\n",
    "for num in odds:\n",
    "    print(num)"
   ]
  },
  {
   "cell_type": "markdown",
   "id": "90deb9ae-bd1e-4375-911c-d40098336ec5",
   "metadata": {},
   "source": [
    "## You can loop through other Python objects"
   ]
  },
  {
   "cell_type": "code",
   "execution_count": null,
   "id": "5717aa20-0695-47f2-8f22-a0cba6e80c1a",
   "metadata": {},
   "outputs": [],
   "source": [
    "for letter in 'library of babel':\n",
    "  print(letter)"
   ]
  },
  {
   "cell_type": "markdown",
   "id": "f66aedb4-1c99-482f-9cb4-e06d442ce07a",
   "metadata": {},
   "source": [
    "## Use `range` to iterate over a sequence of numbers."
   ]
  },
  {
   "cell_type": "code",
   "execution_count": null,
   "id": "9260402c-2c67-4c71-bbdb-43080c076fa7",
   "metadata": {},
   "outputs": [],
   "source": [
    "for number in range(0,3):\n",
    "    print(number)"
   ]
  },
  {
   "cell_type": "markdown",
   "id": "40763536-f63d-47a8-8510-2c437ca3457d",
   "metadata": {},
   "source": [
    "## Accumulators\n",
    "\n",
    "A common loop pattern is to initialize an accumulator variable to zero, an empty string, or an empty list before the loop begins. Then the loop updates the accumulator variable with values from a collection.\n",
    "\n",
    "We can use the += operator to add a value to total in the loop below, so that each time we iterate through the loop we’ll add the index value of the range() to total."
   ]
  },
  {
   "cell_type": "code",
   "execution_count": null,
   "id": "8d314478-2f33-4dd9-adf7-b6fed3cdfc5c",
   "metadata": {},
   "outputs": [],
   "source": [
    "# Sum the first 10 integers.\n",
    "total = 0\n",
    "\n",
    "# range(1,11) will give us the numbers 1 through 10\n",
    "for num in range(1, 11):\n",
    "    print(f'num is: {num} total is: {total}')\n",
    "    total += num\n",
    "\n",
    "print(f'Loop finished. num is: {num} total is: {total}')"
   ]
  },
  {
   "cell_type": "markdown",
   "id": "510a5bdf-d5f4-481b-b243-6d8e960ab1d7",
   "metadata": {},
   "source": [
    "* The first time through the loop, total is equal to 0, and num is 1 (the range starts at 1). After those values print out we add 1 to the value of total (0), to get 1.\n",
    "* The second time through the loop, total is equal to 1, and num is 2. After those print out we add 2 to the value of total (1), to get 3.\n",
    "* The third time through the loop, total is equal to 3, and num is 3. After those print out we add 3 to the value of total (3), to bring us to 6.\n",
    "* And so on.\n",
    "* After the loop is finished the values of total and num retain the values that were assigned the last time through the loop. So num is equal to 10 (the last index value of range()) and total is equal to 55 (45 + 10)."
   ]
  }
 ],
 "metadata": {
  "language_info": {
   "name": "python"
  }
 },
 "nbformat": 4,
 "nbformat_minor": 5
}
