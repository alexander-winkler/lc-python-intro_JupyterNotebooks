{
 "cells": [
  {
   "cell_type": "markdown",
   "id": "2b8647e8-ca5f-4f09-83aa-192b1a28eafb",
   "metadata": {},
   "source": [
    "# Lists"
   ]
  },
  {
   "cell_type": "markdown",
   "id": "3361b65e-3b50-40fe-89a3-24734643f785",
   "metadata": {},
   "source": [
    "## A list stores many values in a single structure."
   ]
  },
  {
   "cell_type": "code",
   "execution_count": null,
   "id": "37ff58e2-88ef-4bc8-8596-b40b8d8ee81c",
   "metadata": {},
   "outputs": [],
   "source": [
    "metadata = ['marc', 'frbr', 'mets', 'mods']\n",
    "metadata"
   ]
  },
  {
   "cell_type": "code",
   "execution_count": null,
   "id": "c7a4939a-be6b-40bb-bc12-318dc249e9f3",
   "metadata": {},
   "outputs": [],
   "source": [
    "len(metadata)"
   ]
  },
  {
   "cell_type": "markdown",
   "id": "d60a0176-139a-40e5-bd53-76a73f9c4665",
   "metadata": {},
   "source": [
    "## Use an item’s index to fetch it from a list."
   ]
  },
  {
   "cell_type": "code",
   "execution_count": null,
   "id": "6c678ab8-7132-4b23-af17-ad7cdb25c304",
   "metadata": {},
   "outputs": [],
   "source": [
    "print(f'First item: {metadata[0]}')\n",
    "print(f'The first three items: {metadata[0:3]}')"
   ]
  },
  {
   "cell_type": "markdown",
   "id": "61f3d610-f54c-4fb2-ba05-dc2aac4bce61",
   "metadata": {},
   "source": [
    "## Reassign list values with their index."
   ]
  },
  {
   "cell_type": "code",
   "execution_count": null,
   "id": "272f5b04-b0dd-4234-91d6-cacd147857eb",
   "metadata": {},
   "outputs": [],
   "source": [
    "print(f'List was: {metadata}')\n",
    "metadata[0] = 'bibframe'\n",
    "print(f'List is now: {metadata}')"
   ]
  },
  {
   "cell_type": "markdown",
   "id": "5a24f5fa-7280-4e42-aaa1-8fbabf9c1f58",
   "metadata": {},
   "source": [
    "### Character strings are immutable."
   ]
  },
  {
   "cell_type": "code",
   "execution_count": null,
   "id": "c71638ff-cd9f-4d54-b231-50465846b03b",
   "metadata": {},
   "outputs": [],
   "source": [
    "librarian = 'Langanathan' # misspelled SR Ranganathan's name\n",
    "librarian[0] = 'R'"
   ]
  },
  {
   "cell_type": "markdown",
   "id": "e206943b-565a-40e5-8e37-e60762be5f95",
   "metadata": {},
   "source": [
    "## Lists may contain values of different types."
   ]
  },
  {
   "cell_type": "code",
   "execution_count": null,
   "id": "0c191379-3860-4599-b2a6-748575de3d99",
   "metadata": {},
   "outputs": [],
   "source": [
    "mixed_list = ['string', 3.2, [10, 20, 30]]\n",
    "f'First item in sublist: {mixed_list[2][0]}'"
   ]
  },
  {
   "cell_type": "markdown",
   "id": "f0295c95-e715-4919-8a60-f8b5277e8e4a",
   "metadata": {},
   "source": [
    "## Appending items to a list lengthens it."
   ]
  },
  {
   "cell_type": "code",
   "execution_count": null,
   "id": "98cbc65e-86ad-4974-a283-e10f19e493cc",
   "metadata": {},
   "outputs": [],
   "source": [
    "print(f'list was:{metadata}')\n",
    "metadata.append('oai-pmh')\n",
    "print(f'list is now: {metadata}')"
   ]
  },
  {
   "cell_type": "markdown",
   "id": "1ac47c81-99d2-4210-9f95-8cc97dddd622",
   "metadata": {},
   "source": [
    "## Use `del` to remove items from a list entirely."
   ]
  },
  {
   "cell_type": "code",
   "execution_count": null,
   "id": "39e17b87-8f0b-4b7b-9af6-8858c77f0b43",
   "metadata": {},
   "outputs": [],
   "source": [
    "primes = [2, 3, 5, 7, 11]\n",
    "print(f'primes before: {primes}')\n",
    "del primes[4]\n",
    "print(f'primes after: {primes}')"
   ]
  },
  {
   "cell_type": "code",
   "execution_count": null,
   "id": "37506cc6-3d34-404f-a554-8bbe7822d230",
   "metadata": {},
   "outputs": [],
   "source": []
  }
 ],
 "metadata": {
  "language_info": {
   "name": "python"
  }
 },
 "nbformat": 4,
 "nbformat_minor": 5
}
