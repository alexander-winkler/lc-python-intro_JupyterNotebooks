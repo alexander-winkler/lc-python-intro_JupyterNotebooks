{
 "cells": [
  {
   "cell_type": "markdown",
   "id": "0e1ffc23-999b-4e66-96ac-9dafca516001",
   "metadata": {},
   "source": [
    "# Writing Functions"
   ]
  },
  {
   "cell_type": "markdown",
   "id": "8cdf4d7f-ed27-4ec7-8e82-fdcd2f66a298",
   "metadata": {},
   "source": [
    "## Use functions to make your code easier to understand."
   ]
  },
  {
   "cell_type": "markdown",
   "id": "afaf99bf-1b52-4109-a90a-f3df793f97db",
   "metadata": {},
   "source": [
    "## Define a function using def with a name, parameters, and a block of code."
   ]
  },
  {
   "cell_type": "code",
   "execution_count": null,
   "id": "778e85e0-e0d3-49ad-a571-f84fc926055f",
   "metadata": {},
   "outputs": [],
   "source": [
    "def print_greeting():\n",
    "    print('Hello!')"
   ]
  },
  {
   "cell_type": "markdown",
   "id": "30eb0d87-1ce1-4121-8163-6743e2f84f86",
   "metadata": {},
   "source": [
    "## Defining a function does not run it."
   ]
  },
  {
   "cell_type": "code",
   "execution_count": null,
   "id": "6cdc8050-7355-496d-aea0-128c33f2f694",
   "metadata": {},
   "outputs": [],
   "source": [
    "print_greeting()"
   ]
  },
  {
   "cell_type": "markdown",
   "id": "ef2fd360-3e2d-4f58-bdb3-ae55ea8e6393",
   "metadata": {},
   "source": [
    "## Arguments in call are matched to parameters in definition."
   ]
  },
  {
   "cell_type": "code",
   "execution_count": null,
   "id": "c2eb7e88-370b-4815-8666-fc6412fdbea0",
   "metadata": {},
   "outputs": [],
   "source": [
    "def print_date(year, month, day):\n",
    "    joined = f'{year}/{month}/{day}'\n",
    "    print(joined)\n",
    "\n",
    "print_date(1871, 3, 19)"
   ]
  },
  {
   "cell_type": "code",
   "execution_count": null,
   "id": "a29049e1-0f1c-461f-bf64-97e5ed3a28b8",
   "metadata": {},
   "outputs": [],
   "source": [
    "print_date()"
   ]
  },
  {
   "cell_type": "markdown",
   "id": "287f95b7-0a14-4179-ae43-233e17cdb630",
   "metadata": {},
   "source": [
    "## Use return to pass values back from a function."
   ]
  },
  {
   "cell_type": "code",
   "execution_count": null,
   "id": "088ff130-69a1-4fd6-a880-d0fe3994f07b",
   "metadata": {},
   "outputs": [],
   "source": [
    "def calc_fine(days_overdue):\n",
    "    if days_overdue <= 10:\n",
    "        fine = days_overdue * 0.25\n",
    "    else:\n",
    "        fine = days_overdue * 0.75\n",
    "    return fine\n",
    "    \n",
    "fine = calc_fine(12)\n",
    "f'Fine owed: ${fine}'"
   ]
  },
  {
   "cell_type": "code",
   "execution_count": null,
   "id": "a2dfeaf5-64b2-427a-9932-72c153a3ef08",
   "metadata": {},
   "outputs": [],
   "source": [
    "result = print_date(1970, 6, 21)\n",
    "print(f'result of call is: {result}')"
   ]
  },
  {
   "cell_type": "markdown",
   "id": "bf1887c1-1ae2-4973-b0bf-71080ea2b1d7",
   "metadata": {},
   "source": [
    "## Variable scope"
   ]
  },
  {
   "cell_type": "code",
   "execution_count": null,
   "id": "2bc9c24b-cbef-4146-9dd4-ef8c6b86b378",
   "metadata": {},
   "outputs": [],
   "source": [
    "initial_fine = 0.25\n",
    "late_fine = 0.50\n",
    "\n",
    "def calc_fine(days_overdue):\n",
    "    if days_overdue <= 10:\n",
    "        days_overdue =  days_overdue * initial_fine\n",
    "    else:\n",
    "        days_overdue = (days_overdue * initial_fine) + (days_overdue * late_fine)\n",
    "    return days_overdue"
   ]
  },
  {
   "cell_type": "code",
   "execution_count": null,
   "id": "4ce8fc76-c92d-4270-850e-3828d2aa7c94",
   "metadata": {},
   "outputs": [],
   "source": [
    "fine = calc_fine(12)\n",
    "print(f'Fine owed: ${fine:.2f}')\n",
    "print(f'Fine rates: ${initial_fine:.2f}, ${late_fine:.2f}')\n",
    "print(f'Days overdue: {days_overdue}')"
   ]
  },
  {
   "cell_type": "markdown",
   "id": "bdd0a053-755c-4725-b0d7-69247d0144be",
   "metadata": {},
   "source": [
    "## Use docstrings to provide online help."
   ]
  },
  {
   "cell_type": "code",
   "execution_count": null,
   "id": "fd94c48e-be71-43ed-a0a0-118edfaafda5",
   "metadata": {},
   "outputs": [],
   "source": [
    "def fahr_to_celsius(temp):\n",
    "    \"Input a fahrenheit temperature and return the value in celsius\"\n",
    "    return ((temp - 32) * (5/9))"
   ]
  },
  {
   "cell_type": "code",
   "execution_count": null,
   "id": "1b32f522-275d-43b7-8e64-b4982d9fdf84",
   "metadata": {},
   "outputs": [],
   "source": [
    "help(fahr_to_celsius)"
   ]
  },
  {
   "cell_type": "code",
   "execution_count": null,
   "id": "9d6211f2-fd29-46b0-9404-218971ad14c8",
   "metadata": {},
   "outputs": [],
   "source": [
    "def fahr_to_celsius(temp):\n",
    "    \"\"\"Convert fahrenheit values to celsius\n",
    "    Input a value in fahrenheit\n",
    "    Output a value in celsius\"\"\"\n",
    "    return ((temp - 32) * (5/9))"
   ]
  },
  {
   "cell_type": "code",
   "execution_count": null,
   "id": "4e064783-4916-47a0-b935-7e328290d670",
   "metadata": {},
   "outputs": [],
   "source": []
  }
 ],
 "metadata": {
  "language_info": {
   "name": "python"
  }
 },
 "nbformat": 4,
 "nbformat_minor": 5
}
