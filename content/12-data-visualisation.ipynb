{
 "cells": [
  {
   "cell_type": "markdown",
   "id": "ef1c2377-98db-4ead-8839-bd247ddeafce",
   "metadata": {},
   "source": [
    "# Data Visualisation"
   ]
  },
  {
   "cell_type": "code",
   "execution_count": null,
   "id": "4c4e935b-de23-4376-9fca-585b82ea8eb8",
   "metadata": {},
   "outputs": [],
   "source": [
    "#import if it is already not\n",
    "import pandas as pd\n",
    "df_long = pd.read_pickle('data/df_long.pkl')"
   ]
  },
  {
   "cell_type": "code",
   "execution_count": null,
   "id": "3deaa96a-5d3e-4cb8-bf74-d4010552fb25",
   "metadata": {},
   "outputs": [],
   "source": [
    "df_long.head()"
   ]
  },
  {
   "cell_type": "markdown",
   "id": "47ef014c-68aa-4a14-85a2-c9ac1483333a",
   "metadata": {},
   "source": [
    "## Plotting with Pandas"
   ]
  },
  {
   "cell_type": "code",
   "execution_count": null,
   "id": "78f1c7f0-b803-41a2-bacc-b99d8e75b6c3",
   "metadata": {},
   "outputs": [],
   "source": [
    "albany = df_long[df_long['branch'] == 'Albany Park'].sort_index()"
   ]
  },
  {
   "cell_type": "code",
   "execution_count": null,
   "id": "2a43a888-af83-4d61-ab78-f11d951171dc",
   "metadata": {},
   "outputs": [],
   "source": [
    "albany.head()"
   ]
  },
  {
   "cell_type": "code",
   "execution_count": null,
   "id": "2b09b661-c166-4138-bfd0-5de223e4d352",
   "metadata": {},
   "outputs": [],
   "source": [
    "albany.plot()"
   ]
  },
  {
   "cell_type": "code",
   "execution_count": null,
   "id": "0ea4971a-76c8-4a0d-9ae9-066c80894d7e",
   "metadata": {},
   "outputs": [],
   "source": [
    "albany['circulation'].plot()"
   ]
  },
  {
   "cell_type": "markdown",
   "id": "cf3fa28d-5f23-4b28-9fb3-f74a91c518d2",
   "metadata": {},
   "source": [
    "## Use Pandas for More Detailed Charts"
   ]
  },
  {
   "cell_type": "code",
   "execution_count": null,
   "id": "758f2eca-63b6-417a-bd1a-d15db2c65211",
   "metadata": {},
   "outputs": [],
   "source": [
    "albany['circulation'].plot(title='Circulation Count Over Time', \n",
    "                                figsize=(10, 5), \n",
    "                                color='blue', \n",
    "                                xlabel='Date',\n",
    "                                ylabel='Circulation Count')"
   ]
  },
  {
   "cell_type": "markdown",
   "id": "a5c8c241-8a03-4560-bcf5-b42ba326fb54",
   "metadata": {},
   "source": [
    "### Changing plot types"
   ]
  },
  {
   "cell_type": "code",
   "execution_count": null,
   "id": "22d48978-010f-4ea4-b969-00754026f3d5",
   "metadata": {},
   "outputs": [],
   "source": [
    "albany['circulation'].plot(kind='area', \n",
    "                            title='Circulation Count Area Plot at Albany Park', alpha=0.5, \n",
    "                            xlabel='Date',\n",
    "                            ylabel='Circulation Count')"
   ]
  },
  {
   "cell_type": "code",
   "execution_count": null,
   "id": "5fc91a57-f83e-4149-a35f-59dfbc24366d",
   "metadata": {},
   "outputs": [],
   "source": [
    "albany['circulation'].plot(kind='hist', bins=20, \n",
    "                            title='Distribution of Circulation Counts at Albany Park',\n",
    "                            xlabel='Circulation Count')"
   ]
  },
  {
   "cell_type": "markdown",
   "id": "49c76c71-9774-49ea-9df4-f53c979da121",
   "metadata": {},
   "source": [
    "## Use Plotly for interactive plots"
   ]
  },
  {
   "cell_type": "code",
   "execution_count": null,
   "id": "ebbad9e8-e96e-4fb3-93a8-17da444ac9f1",
   "metadata": {},
   "outputs": [],
   "source": [
    "import plotly.express as px"
   ]
  },
  {
   "cell_type": "code",
   "execution_count": null,
   "id": "91a39d8d-9302-4317-b64d-b6cf83b4fa1b",
   "metadata": {},
   "outputs": [],
   "source": [
    "# Creating a line plot for a few selected branches to avoid clutter\n",
    "selected_branches = df_long[df_long['branch'].isin(['Altgeld',\n",
    " 'Archer Heights',\n",
    " 'Austin',\n",
    " 'Austin-Irving',\n",
    " 'Avalon'])]\n",
    "selected_branches = selected_branches.sort_values(by='date')"
   ]
  },
  {
   "cell_type": "code",
   "execution_count": null,
   "id": "69e3a98a-5bf9-4e03-a45d-80b8dee04422",
   "metadata": {},
   "outputs": [],
   "source": [
    "fig = px.line(selected_branches, x=selected_branches.index, y='circulation', color='branch', title='Circulation Over Time for Selected Branches')\n",
    "fig.show()"
   ]
  },
  {
   "cell_type": "markdown",
   "id": "234555a4-5255-4d5c-88fe-87af44c35c13",
   "metadata": {},
   "source": [
    "## Bar plots with Plotly"
   ]
  },
  {
   "cell_type": "code",
   "execution_count": null,
   "id": "414ec1c6-ce43-4355-8a4b-50ca1e11fc37",
   "metadata": {},
   "outputs": [],
   "source": [
    "# Aggregate circulation by branch\n",
    "total_circulation_by_branch = df_long.groupby('branch')['circulation'].sum().reset_index()\n",
    "\n",
    "# Create a bar plot\n",
    "fig = px.bar(total_circulation_by_branch, x='branch', y='circulation', title='Total Circulation by Branch')\n",
    "fig.show()"
   ]
  },
  {
   "cell_type": "code",
   "execution_count": null,
   "id": "9b995969-a749-4343-84f9-545d2f9450cb",
   "metadata": {},
   "outputs": [],
   "source": []
  }
 ],
 "metadata": {
  "language_info": {
   "name": "python"
  }
 },
 "nbformat": 4,
 "nbformat_minor": 5
}
