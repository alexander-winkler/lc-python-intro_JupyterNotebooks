{
 "cells": [
  {
   "cell_type": "markdown",
   "id": "d113007a-878f-4c57-a0c9-41839f4a6fa1",
   "metadata": {},
   "source": [
    "# Built-in Functions and Help"
   ]
  },
  {
   "cell_type": "markdown",
   "id": "6ea9c287-a079-488e-9e13-9018fb2b6679",
   "metadata": {},
   "source": [
    "## Use comments to add documentation to programs."
   ]
  },
  {
   "cell_type": "code",
   "execution_count": null,
   "id": "2af1961f-177f-4ef6-8c1f-bf62184dc6c3",
   "metadata": {},
   "outputs": [],
   "source": [
    "# This sentence isn't executed by Python.\n",
    "name = 'Library Carpentry'   # Neither is this comment\n",
    "# Anything after '#' is ignored."
   ]
  },
  {
   "cell_type": "markdown",
   "id": "ab82a128-305e-4f6b-b985-833d2e965ccc",
   "metadata": {},
   "source": [
    "## A function may take zero or more arguments."
   ]
  },
  {
   "cell_type": "code",
   "execution_count": null,
   "id": "4004cf2a-3d42-47d7-8f1c-ae782960213e",
   "metadata": {},
   "outputs": [],
   "source": [
    "print(\"I am an argument and must go here.\")\n",
    "print()\n",
    "print(\"Sometimes you don't need to pass an argument.\")"
   ]
  },
  {
   "cell_type": "markdown",
   "id": "000580b9-04ff-4bf8-9589-32b6f1cceb9d",
   "metadata": {},
   "source": [
    "## Commonly-used built-in functions include `max()` and `min()`."
   ]
  },
  {
   "cell_type": "code",
   "execution_count": null,
   "id": "e673da6f-c5cb-4c54-b644-60724562812c",
   "metadata": {},
   "outputs": [],
   "source": [
    "print(max(1, 2, 3)) # notice that functions are nestable\n",
    "print(min('a', 'b', max('c', 'd'))) # nest with care since code gets less readable\n",
    "print(min('a', 'A', '2')) # numbers and letters can be compared if they are the same data type"
   ]
  },
  {
   "cell_type": "markdown",
   "id": "cdc70eeb-266c-4412-923a-d8b4f29f6893",
   "metadata": {},
   "source": [
    "## Functions may only work for certain (combinations of) arguments."
   ]
  },
  {
   "cell_type": "code",
   "execution_count": null,
   "id": "120594f5-7a75-4930-90a1-26756fbefc38",
   "metadata": {},
   "outputs": [],
   "source": [
    "max(1, 'a')"
   ]
  },
  {
   "cell_type": "markdown",
   "id": "dabce839-04d6-4797-86b6-22e779b06d30",
   "metadata": {},
   "source": [
    "## Function argument default values, and `round()`."
   ]
  },
  {
   "cell_type": "code",
   "execution_count": null,
   "id": "5132ba67-3be1-4a17-9011-766b6a5d870f",
   "metadata": {},
   "outputs": [],
   "source": [
    "round(3.712)"
   ]
  },
  {
   "cell_type": "code",
   "execution_count": null,
   "id": "39c732a1-88f4-4b18-83f5-6961cefcf260",
   "metadata": {},
   "outputs": [],
   "source": [
    "round(3.712, 1)"
   ]
  },
  {
   "cell_type": "markdown",
   "id": "974810c1-2cc5-4e0f-8e02-f559f74c7218",
   "metadata": {},
   "source": [
    "## Use the built-in function `help` to get help for a function."
   ]
  },
  {
   "cell_type": "code",
   "execution_count": null,
   "id": "29acad39-c9dd-40d0-9c76-b01b0061ea84",
   "metadata": {},
   "outputs": [],
   "source": [
    "help(round)"
   ]
  },
  {
   "cell_type": "code",
   "execution_count": null,
   "id": "1a0a19e6-3134-45a5-bc7a-4e43d82658f7",
   "metadata": {},
   "outputs": [],
   "source": [
    "round?"
   ]
  },
  {
   "cell_type": "markdown",
   "id": "aa93ad92-8f8d-4e8c-8672-2bc85d7277f0",
   "metadata": {},
   "source": [
    "## Every function returns something."
   ]
  },
  {
   "cell_type": "code",
   "execution_count": null,
   "id": "8739276d-b23c-4c17-9c70-7c289c6f425e",
   "metadata": {},
   "outputs": [],
   "source": [
    "result = print('example')\n",
    "print(f'result of print is {result}')"
   ]
  },
  {
   "cell_type": "code",
   "execution_count": null,
   "id": "0d78042e-275e-4ed8-86e4-654b7f93ca83",
   "metadata": {},
   "outputs": [],
   "source": []
  }
 ],
 "metadata": {
  "language_info": {
   "name": "python"
  }
 },
 "nbformat": 4,
 "nbformat_minor": 5
}
