{
 "cells": [
  {
   "cell_type": "markdown",
   "id": "6a32bb7b-6705-49b8-b8f6-8444cc645b8d",
   "metadata": {},
   "source": [
    "# Using Pandas"
   ]
  },
  {
   "cell_type": "markdown",
   "id": "3478e58a-c064-4b45-a520-87defea2287a",
   "metadata": {},
   "source": [
    "## Pinpoint specific rows and columns in a DataFrame "
   ]
  },
  {
   "cell_type": "code",
   "execution_count": null,
   "id": "155911da-e4e8-4c4e-a1c2-6e4f188f4b76",
   "metadata": {},
   "outputs": [],
   "source": [
    "import glob\n",
    "import pandas as pd\n",
    "\n",
    "dfs = [] \n",
    "\n",
    "for csv in sorted(glob.glob('data/*.csv')):\n",
    "    year = csv[5:9] \n",
    "    data = pd.read_csv(csv) \n",
    "    data['year'] = year \n",
    "    dfs.append(data)\n",
    "\n",
    "df = pd.concat(dfs, ignore_index=True)\n",
    "\n",
    "df.head(3)"
   ]
  },
  {
   "cell_type": "markdown",
   "id": "9a23c1b2-028f-4997-a2a7-b4e8adb77493",
   "metadata": {},
   "source": [
    "### Use tail() to look at the end of the DataFrame"
   ]
  },
  {
   "cell_type": "code",
   "execution_count": null,
   "id": "079bbfa7-510a-48a6-825e-4908365a0714",
   "metadata": {},
   "outputs": [],
   "source": [
    "df.tail(3)"
   ]
  },
  {
   "cell_type": "markdown",
   "id": "1bd4c78d-7a3e-4fe0-ac15-6e22753b6531",
   "metadata": {},
   "source": [
    "### Slicing a DataFrame"
   ]
  },
  {
   "cell_type": "code",
   "execution_count": null,
   "id": "5447b68c-4307-41dc-975a-fb01499ac146",
   "metadata": {},
   "outputs": [],
   "source": [
    "df[50:60] #look at rows 50 to 59"
   ]
  },
  {
   "cell_type": "markdown",
   "id": "6030d4eb-174d-44df-96b9-9314fd2991dd",
   "metadata": {},
   "source": [
    "### Look at specific columns"
   ]
  },
  {
   "cell_type": "code",
   "execution_count": null,
   "id": "12cf24a1-4147-41a2-b8a2-53c3ab8eb8fe",
   "metadata": {},
   "outputs": [],
   "source": [
    "df['year'] #look at the year column"
   ]
  },
  {
   "cell_type": "code",
   "execution_count": null,
   "id": "8e73e69e-1771-484c-a2e6-4cd03117f38e",
   "metadata": {},
   "outputs": [],
   "source": [
    "print(f\"first row: {df['year'][0]}\") #use double quotes around your fstring if it contains single quotes\n",
    "print('rows 100 to 102:') #add a new print statement to create a new line\n",
    "print(df['year'][100:103])"
   ]
  },
  {
   "cell_type": "code",
   "execution_count": null,
   "id": "28fc1e40-b2ad-4960-be24-f2ab4da8df71",
   "metadata": {},
   "outputs": [],
   "source": [
    "type(df['year'])"
   ]
  },
  {
   "cell_type": "markdown",
   "id": "95817861-cfdf-4da8-bca5-e13c6197d7b6",
   "metadata": {},
   "source": [
    "## Summary statistics on columns"
   ]
  },
  {
   "cell_type": "code",
   "execution_count": null,
   "id": "679aeedb-d541-45b9-a58e-1d43aec7c705",
   "metadata": {},
   "outputs": [],
   "source": [
    "print(f\"max year: {df['year'].max()}\")\n",
    "print(f\"min year: {df['year'].min()}\")"
   ]
  },
  {
   "cell_type": "markdown",
   "id": "6b3e2262-2dcf-4487-968b-69dab50d44ad",
   "metadata": {},
   "source": [
    "### Summarize columns that hold string objects"
   ]
  },
  {
   "cell_type": "code",
   "execution_count": null,
   "id": "beeb1d7a-8101-44e4-8306-d291c41d6299",
   "metadata": {},
   "outputs": [],
   "source": [
    "df['branch']"
   ]
  },
  {
   "cell_type": "code",
   "execution_count": null,
   "id": "76a40db5-cc98-4b05-8d2e-766ef54e2b70",
   "metadata": {},
   "outputs": [],
   "source": [
    "print(f\"Number of unique branches: {df['branch'].nunique()}\")\n",
    "print(df['branch'].unique())"
   ]
  },
  {
   "cell_type": "markdown",
   "id": "459eb628-f67f-4fb8-b9e5-e4a6fdb10ca1",
   "metadata": {},
   "source": [
    "## Use `.groupby()` to analyze subsets of data"
   ]
  },
  {
   "cell_type": "code",
   "execution_count": null,
   "id": "83f2dad7-d113-4cf2-8517-49f257dd75b8",
   "metadata": {},
   "outputs": [],
   "source": [
    "df.groupby('branch')['ytd'].sum()"
   ]
  },
  {
   "cell_type": "markdown",
   "id": "822a4c0a-481d-4a1c-b3ed-b171904fd716",
   "metadata": {},
   "source": [
    "### Sort pandas series using `.sort_values()`"
   ]
  },
  {
   "cell_type": "code",
   "execution_count": null,
   "id": "9178bd97-e4ad-4c6c-9d58-23be910843ac",
   "metadata": {},
   "outputs": [],
   "source": [
    "circ_by_branch = df.groupby('branch')['ytd'].sum()\n",
    "circ_by_branch.sort_values(ascending=False).head(10)"
   ]
  },
  {
   "cell_type": "code",
   "execution_count": null,
   "id": "ecf01cef-e902-4c54-a0f7-dae8900fad8a",
   "metadata": {},
   "outputs": [],
   "source": [
    "circ_by_year_branch = df.groupby(['year', 'branch'])['ytd'].sum().sort_values(ascending=False)\n",
    "circ_by_year_branch.head(5)"
   ]
  },
  {
   "cell_type": "markdown",
   "id": "4bbfb313-8ca9-470a-8e12-61bb472d5a07",
   "metadata": {},
   "source": [
    "## Use `.iloc[]` and `.loc[]` to select DataFrame locations."
   ]
  },
  {
   "cell_type": "code",
   "execution_count": null,
   "id": "16515c93-a9af-4ac5-89c8-029b05dda06e",
   "metadata": {},
   "outputs": [],
   "source": [
    "# print values in the 1st and 2nd to last columns in the first row\n",
    "# '\\n' prints a linebreak\n",
    "print(f\"Branch: {df.iloc[0,0]} \\nYTD circ: {df.iloc[0,-2]}\")"
   ]
  },
  {
   "cell_type": "code",
   "execution_count": null,
   "id": "1e943591-e7bf-42df-86d5-1d6d03b5cd2b",
   "metadata": {},
   "outputs": [],
   "source": [
    "# print the same values as above, using the column names\n",
    "print(f\"Branch: {df.loc[0,'branch']} \\nYTD circ: {df.loc[0, 'ytd']}\")"
   ]
  },
  {
   "cell_type": "markdown",
   "id": "130a5029-cbd9-4f71-8ccf-8e7a0089ca38",
   "metadata": {},
   "source": [
    "## Save DataFrames"
   ]
  },
  {
   "cell_type": "code",
   "execution_count": null,
   "id": "348cd7e7-1f7c-4d1d-88cc-9a4b6494cf2b",
   "metadata": {},
   "outputs": [],
   "source": [
    "circ_df = circ_by_year_branch.to_frame()\n",
    "circ_df.head(5)"
   ]
  },
  {
   "cell_type": "markdown",
   "id": "a4bb4d37-515a-4025-81fb-506ec00f40da",
   "metadata": {},
   "source": [
    "### Save to CSV"
   ]
  },
  {
   "cell_type": "code",
   "execution_count": null,
   "id": "fe1f6f2f-5740-4e3b-b157-b53b8ff2b3b6",
   "metadata": {},
   "outputs": [],
   "source": [
    "circ_df.to_csv('high_usage.csv')"
   ]
  },
  {
   "cell_type": "code",
   "execution_count": null,
   "id": "463f7473-87a6-4f48-97bc-774e1cf064c8",
   "metadata": {},
   "outputs": [],
   "source": []
  }
 ],
 "metadata": {
  "language_info": {
   "name": "python"
  }
 },
 "nbformat": 4,
 "nbformat_minor": 5
}
